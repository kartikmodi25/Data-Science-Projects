{
  "nbformat": 4,
  "nbformat_minor": 0,
  "metadata": {
    "colab": {
      "name": "emotion",
      "provenance": []
    },
    "kernelspec": {
      "name": "python3",
      "display_name": "Python 3"
    },
    "accelerator": "GPU"
  },
  "cells": [
    {
      "cell_type": "code",
      "metadata": {
        "id": "n9x1q2LTM5-F",
        "colab": {
          "base_uri": "https://localhost:8080/",
          "height": 122
        },
        "outputId": "b30b0c8a-2395-4780-f011-54315e678142"
      },
      "source": [
        "from google.colab import drive\n",
        "\n",
        "drive.mount('/content/gdrive')"
      ],
      "execution_count": null,
      "outputs": [
        {
          "output_type": "stream",
          "text": [
            "Go to this URL in a browser: https://accounts.google.com/o/oauth2/auth?client_id=947318989803-6bn6qk8qdgf4n4g3pfee6491hc0brc4i.apps.googleusercontent.com&redirect_uri=urn%3aietf%3awg%3aoauth%3a2.0%3aoob&scope=email%20https%3a%2f%2fwww.googleapis.com%2fauth%2fdocs.test%20https%3a%2f%2fwww.googleapis.com%2fauth%2fdrive%20https%3a%2f%2fwww.googleapis.com%2fauth%2fdrive.photos.readonly%20https%3a%2f%2fwww.googleapis.com%2fauth%2fpeopleapi.readonly&response_type=code\n",
            "\n",
            "Enter your authorization code:\n",
            "··········\n",
            "Mounted at /content/gdrive\n"
          ],
          "name": "stdout"
        }
      ]
    },
    {
      "cell_type": "code",
      "metadata": {
        "id": "boYV393-NXN4"
      },
      "source": [
        "import os\n",
        "\n",
        "os.chdir(\"/content/gdrive/My Drive/kaggle/sentiment analysis/sentiment data\")"
      ],
      "execution_count": null,
      "outputs": []
    },
    {
      "cell_type": "code",
      "metadata": {
        "id": "43CcX_2bNoMo"
      },
      "source": [
        "import pandas as pd\n",
        "\n",
        "train = pd.read_csv('train.txt', header=None, sep=';')\n",
        "\n",
        "train.columns = ['text', 'target']\n",
        "\n",
        "val = pd.read_csv('val.txt', header=None, sep=';')\n",
        "\n",
        "val.columns = ['text', 'target']\n",
        "\n",
        "test = pd.read_csv('test.txt', header=None, sep=';')\n",
        "\n",
        "test.columns = ['text', 'target']"
      ],
      "execution_count": null,
      "outputs": []
    },
    {
      "cell_type": "code",
      "metadata": {
        "id": "Nf8iWnNRNzJc",
        "colab": {
          "base_uri": "https://localhost:8080/",
          "height": 204
        },
        "outputId": "c33381b3-e022-415d-b145-3efa918c5f44"
      },
      "source": [
        "test.head()"
      ],
      "execution_count": null,
      "outputs": [
        {
          "output_type": "execute_result",
          "data": {
            "text/html": [
              "<div>\n",
              "<style scoped>\n",
              "    .dataframe tbody tr th:only-of-type {\n",
              "        vertical-align: middle;\n",
              "    }\n",
              "\n",
              "    .dataframe tbody tr th {\n",
              "        vertical-align: top;\n",
              "    }\n",
              "\n",
              "    .dataframe thead th {\n",
              "        text-align: right;\n",
              "    }\n",
              "</style>\n",
              "<table border=\"1\" class=\"dataframe\">\n",
              "  <thead>\n",
              "    <tr style=\"text-align: right;\">\n",
              "      <th></th>\n",
              "      <th>text</th>\n",
              "      <th>target</th>\n",
              "    </tr>\n",
              "  </thead>\n",
              "  <tbody>\n",
              "    <tr>\n",
              "      <th>0</th>\n",
              "      <td>im feeling rather rotten so im not very ambiti...</td>\n",
              "      <td>sadness</td>\n",
              "    </tr>\n",
              "    <tr>\n",
              "      <th>1</th>\n",
              "      <td>im updating my blog because i feel shitty</td>\n",
              "      <td>sadness</td>\n",
              "    </tr>\n",
              "    <tr>\n",
              "      <th>2</th>\n",
              "      <td>i never make her separate from me because i do...</td>\n",
              "      <td>sadness</td>\n",
              "    </tr>\n",
              "    <tr>\n",
              "      <th>3</th>\n",
              "      <td>i left with my bouquet of red and yellow tulip...</td>\n",
              "      <td>joy</td>\n",
              "    </tr>\n",
              "    <tr>\n",
              "      <th>4</th>\n",
              "      <td>i was feeling a little vain when i did this one</td>\n",
              "      <td>sadness</td>\n",
              "    </tr>\n",
              "  </tbody>\n",
              "</table>\n",
              "</div>"
            ],
            "text/plain": [
              "                                                text   target\n",
              "0  im feeling rather rotten so im not very ambiti...  sadness\n",
              "1          im updating my blog because i feel shitty  sadness\n",
              "2  i never make her separate from me because i do...  sadness\n",
              "3  i left with my bouquet of red and yellow tulip...      joy\n",
              "4    i was feeling a little vain when i did this one  sadness"
            ]
          },
          "metadata": {
            "tags": []
          },
          "execution_count": 30
        }
      ]
    },
    {
      "cell_type": "code",
      "metadata": {
        "id": "kRl5VFMgN0s6",
        "colab": {
          "base_uri": "https://localhost:8080/",
          "height": 136
        },
        "outputId": "c9a96852-194c-406f-e338-8090b59e7149"
      },
      "source": [
        "train['target'].value_counts()"
      ],
      "execution_count": null,
      "outputs": [
        {
          "output_type": "execute_result",
          "data": {
            "text/plain": [
              "joy         5362\n",
              "sadness     4666\n",
              "anger       2159\n",
              "fear        1937\n",
              "love        1304\n",
              "surprise     572\n",
              "Name: target, dtype: int64"
            ]
          },
          "metadata": {
            "tags": []
          },
          "execution_count": 31
        }
      ]
    },
    {
      "cell_type": "code",
      "metadata": {
        "id": "Ms7XWi1l_0A6"
      },
      "source": [
        "y_val = val['target']\n",
        "\n",
        "y_test = test['target']\n"
      ],
      "execution_count": null,
      "outputs": []
    },
    {
      "cell_type": "code",
      "metadata": {
        "id": "9bW_5LO_O1U6"
      },
      "source": [
        "from sklearn.preprocessing import LabelEncoder\n",
        "le = LabelEncoder()\n",
        "y_train = train['target']\n",
        "\n",
        "y_train = le.fit_transform(y_train)\n",
        "\n",
        "\n",
        "from keras.utils import to_categorical\n",
        "\n",
        "y_train = to_categorical(y_train, 6)\n"
      ],
      "execution_count": null,
      "outputs": []
    },
    {
      "cell_type": "code",
      "metadata": {
        "id": "_HCBUkioAtlZ"
      },
      "source": [
        "y_val = le.transform(y_val)\n",
        "\n",
        "y_test = le.transform(y_test)\n",
        "y_test_2 = y_test\n",
        "y_val = to_categorical(y_val, 6)\n",
        "y_test = to_categorical(y_test, 6)"
      ],
      "execution_count": null,
      "outputs": []
    },
    {
      "cell_type": "code",
      "metadata": {
        "id": "en_HxC5Ow_u1"
      },
      "source": [
        ""
      ],
      "execution_count": null,
      "outputs": []
    },
    {
      "cell_type": "code",
      "metadata": {
        "id": "KYbEMf7kxEj5",
        "colab": {
          "base_uri": "https://localhost:8080/",
          "height": 102
        },
        "outputId": "57c5b32c-190e-41d5-d962-dae138d365a9"
      },
      "source": [
        "import nltk\n",
        "nltk.download('stopwords')\n",
        "nltk.download('wordnet')"
      ],
      "execution_count": null,
      "outputs": [
        {
          "output_type": "stream",
          "text": [
            "[nltk_data] Downloading package stopwords to /root/nltk_data...\n",
            "[nltk_data]   Package stopwords is already up-to-date!\n",
            "[nltk_data] Downloading package wordnet to /root/nltk_data...\n",
            "[nltk_data]   Package wordnet is already up-to-date!\n"
          ],
          "name": "stdout"
        },
        {
          "output_type": "execute_result",
          "data": {
            "text/plain": [
              "True"
            ]
          },
          "metadata": {
            "tags": []
          },
          "execution_count": 35
        }
      ]
    },
    {
      "cell_type": "code",
      "metadata": {
        "id": "oFXzBqc9yaYf"
      },
      "source": [
        "from nltk.corpus import stopwords\n",
        "from nltk.stem import PorterStemmer\n",
        "ps = PorterStemmer()\n",
        "sw = set(stopwords.words('english'))\n",
        "import re"
      ],
      "execution_count": null,
      "outputs": []
    },
    {
      "cell_type": "code",
      "metadata": {
        "id": "ReSCb6gJycaN"
      },
      "source": [
        "def clean_text(text):\n",
        "  text = text.lower()\n",
        "  \n",
        "  text = re.sub('\\[[^]]*\\]', ' ', text)\n",
        "  text = re.sub('[^a-zA-Z]', ' ', text)\n",
        "  text = text.split()\n",
        "  \n",
        "  text = [ps.stem(w) for w in text if w not in sw]\n",
        "  \n",
        "  text = ' '.join(text)\n",
        "  return text\n",
        "\n"
      ],
      "execution_count": null,
      "outputs": []
    },
    {
      "cell_type": "code",
      "metadata": {
        "id": "vY2kqpgDyk8T"
      },
      "source": [
        "text = train.text"
      ],
      "execution_count": null,
      "outputs": []
    },
    {
      "cell_type": "code",
      "metadata": {
        "id": "EDkVuc4-ypsA"
      },
      "source": [
        "cleaned_text = text.apply(clean_text)"
      ],
      "execution_count": null,
      "outputs": []
    },
    {
      "cell_type": "code",
      "metadata": {
        "id": "f_ncI_lWyq4Q",
        "colab": {
          "base_uri": "https://localhost:8080/",
          "height": 221
        },
        "outputId": "80df6686-5ac8-4bdc-bc3e-a0e868a3091b"
      },
      "source": [
        "cleaned_text"
      ],
      "execution_count": null,
      "outputs": [
        {
          "output_type": "execute_result",
          "data": {
            "text/plain": [
              "0                                        didnt feel humili\n",
              "1        go feel hopeless damn hope around someon care ...\n",
              "2                     im grab minut post feel greedi wrong\n",
              "3           ever feel nostalg fireplac know still properti\n",
              "4                                             feel grouchi\n",
              "                               ...                        \n",
              "15995        brief time beanbag said anna feel like beaten\n",
              "15996     turn feel pathet still wait tabl sub teach degre\n",
              "15997                              feel strong good overal\n",
              "15998                       feel like rude comment im glad\n",
              "15999                         know lot feel stupid portray\n",
              "Name: text, Length: 16000, dtype: object"
            ]
          },
          "metadata": {
            "tags": []
          },
          "execution_count": 40
        }
      ]
    },
    {
      "cell_type": "code",
      "metadata": {
        "id": "3IJaw3ZMBT26"
      },
      "source": [
        "val_text = val.text\n",
        "cleaned_val_text = val_text.apply(clean_text)\n",
        "\n",
        "test_text = test.text\n",
        "cleaned_test_text = test_text.apply(clean_text)"
      ],
      "execution_count": null,
      "outputs": []
    },
    {
      "cell_type": "code",
      "metadata": {
        "id": "roo4epLuyyob"
      },
      "source": [
        "from keras.preprocessing.text import Tokenizer\n",
        "tokenizer = Tokenizer(num_words = 4000)\n",
        "\n",
        "tokenizer.fit_on_texts(cleaned_text)\n",
        "\n",
        "cleaned_text = tokenizer.texts_to_sequences(cleaned_text)\n",
        "\n",
        "cleaned_val_text = tokenizer.texts_to_sequences(cleaned_val_text)\n",
        "cleaned_test_text = tokenizer.texts_to_sequences(cleaned_test_text)"
      ],
      "execution_count": null,
      "outputs": []
    },
    {
      "cell_type": "code",
      "metadata": {
        "id": "urHaYhdP0fI1"
      },
      "source": [
        "max=0\n",
        "\n",
        "for i in range (0,len(cleaned_text)):\n",
        "  if(len(cleaned_text[i])>max):\n",
        "    max = len(cleaned_text[i])\n"
      ],
      "execution_count": null,
      "outputs": []
    },
    {
      "cell_type": "code",
      "metadata": {
        "id": "Hyp8tr2y1Kq3",
        "colab": {
          "base_uri": "https://localhost:8080/",
          "height": 34
        },
        "outputId": "112fa182-c787-46c1-831d-d254997e083d"
      },
      "source": [
        "print(max)"
      ],
      "execution_count": null,
      "outputs": [
        {
          "output_type": "stream",
          "text": [
            "35\n"
          ],
          "name": "stdout"
        }
      ]
    },
    {
      "cell_type": "code",
      "metadata": {
        "id": "qQkSJ9xJ5NSN"
      },
      "source": [
        "from keras.preprocessing.sequence import pad_sequences"
      ],
      "execution_count": null,
      "outputs": []
    },
    {
      "cell_type": "code",
      "metadata": {
        "id": "OsihuzVt5f25"
      },
      "source": [
        "X_train = pad_sequences(cleaned_text, maxlen=35)\n",
        "X_val = pad_sequences(cleaned_val_text, maxlen=35)\n",
        "X_test = pad_sequences(cleaned_test_text, maxlen=35)"
      ],
      "execution_count": null,
      "outputs": []
    },
    {
      "cell_type": "code",
      "metadata": {
        "id": "OBjuSDMt5rWW"
      },
      "source": [
        "from tensorflow import keras \n"
      ],
      "execution_count": null,
      "outputs": []
    },
    {
      "cell_type": "code",
      "metadata": {
        "id": "Pdf4w0RA5tGv",
        "colab": {
          "base_uri": "https://localhost:8080/",
          "height": 289
        },
        "outputId": "01dadf4b-70b1-42fd-ec90-7539ea2f5bc7"
      },
      "source": [
        "model = keras.models.Sequential([\n",
        "                                 keras.layers.Embedding(4000, 32, input_length=35),\n",
        "                                 keras.layers.LSTM(128, return_sequences=True),\n",
        "                                 keras.layers.GRU(128),\n",
        "                                 keras.layers.Dense(6, activation='sigmoid')\n",
        "])\n",
        "\n",
        "model.summary()"
      ],
      "execution_count": null,
      "outputs": [
        {
          "output_type": "stream",
          "text": [
            "Model: \"sequential_1\"\n",
            "_________________________________________________________________\n",
            "Layer (type)                 Output Shape              Param #   \n",
            "=================================================================\n",
            "embedding_1 (Embedding)      (None, 35, 32)            128000    \n",
            "_________________________________________________________________\n",
            "lstm_1 (LSTM)                (None, 35, 128)           82432     \n",
            "_________________________________________________________________\n",
            "gru_1 (GRU)                  (None, 128)               99072     \n",
            "_________________________________________________________________\n",
            "dense_1 (Dense)              (None, 6)                 774       \n",
            "=================================================================\n",
            "Total params: 310,278\n",
            "Trainable params: 310,278\n",
            "Non-trainable params: 0\n",
            "_________________________________________________________________\n"
          ],
          "name": "stdout"
        }
      ]
    },
    {
      "cell_type": "code",
      "metadata": {
        "id": "P6YQNdGR7R2Z"
      },
      "source": [
        "model.compile(optimizer='adam', loss='categorical_crossentropy', metrics=['accuracy'])"
      ],
      "execution_count": null,
      "outputs": []
    },
    {
      "cell_type": "code",
      "metadata": {
        "id": "a3BIJPnO7hGW",
        "colab": {
          "base_uri": "https://localhost:8080/",
          "height": 204
        },
        "outputId": "2b333665-d962-4fda-9193-6ec6842cf947"
      },
      "source": [
        "model.fit(X_train, y_train,validation_data=(X_val, y_val), epochs=5)"
      ],
      "execution_count": null,
      "outputs": [
        {
          "output_type": "stream",
          "text": [
            "Epoch 1/5\n",
            "500/500 [==============================] - 4s 9ms/step - loss: 1.2458 - accuracy: 0.4462 - val_loss: 0.8392 - val_accuracy: 0.6175\n",
            "Epoch 2/5\n",
            "500/500 [==============================] - 4s 8ms/step - loss: 0.4222 - accuracy: 0.8462 - val_loss: 0.3017 - val_accuracy: 0.8975\n",
            "Epoch 3/5\n",
            "500/500 [==============================] - 4s 8ms/step - loss: 0.1914 - accuracy: 0.9280 - val_loss: 0.2821 - val_accuracy: 0.9000\n",
            "Epoch 4/5\n",
            "500/500 [==============================] - 4s 8ms/step - loss: 0.1377 - accuracy: 0.9452 - val_loss: 0.2699 - val_accuracy: 0.9020\n",
            "Epoch 5/5\n",
            "500/500 [==============================] - 4s 8ms/step - loss: 0.1100 - accuracy: 0.9549 - val_loss: 0.2766 - val_accuracy: 0.9050\n"
          ],
          "name": "stdout"
        },
        {
          "output_type": "execute_result",
          "data": {
            "text/plain": [
              "<tensorflow.python.keras.callbacks.History at 0x7fbff87d6828>"
            ]
          },
          "metadata": {
            "tags": []
          },
          "execution_count": 50
        }
      ]
    },
    {
      "cell_type": "code",
      "metadata": {
        "id": "NEC3JBEZ7pHs",
        "colab": {
          "base_uri": "https://localhost:8080/",
          "height": 88
        },
        "outputId": "299ac398-3dc3-4cb9-9f06-a2db29b01ef4"
      },
      "source": [
        "import numpy as np\n",
        "preds = model.predict_classes(X_test)"
      ],
      "execution_count": null,
      "outputs": [
        {
          "output_type": "stream",
          "text": [
            "WARNING:tensorflow:From <ipython-input-25-52928ead4b0a>:2: Sequential.predict_classes (from tensorflow.python.keras.engine.sequential) is deprecated and will be removed after 2021-01-01.\n",
            "Instructions for updating:\n",
            "Please use instead:* `np.argmax(model.predict(x), axis=-1)`,   if your model does multi-class classification   (e.g. if it uses a `softmax` last-layer activation).* `(model.predict(x) > 0.5).astype(\"int32\")`,   if your model does binary classification   (e.g. if it uses a `sigmoid` last-layer activation).\n"
          ],
          "name": "stdout"
        }
      ]
    },
    {
      "cell_type": "code",
      "metadata": {
        "id": "QdSg4tEO_Wmr"
      },
      "source": [
        "count=0\n",
        "for i in range(2000):\n",
        "  if y_test_2[i] == preds[i]:\n",
        "    count += 1"
      ],
      "execution_count": null,
      "outputs": []
    },
    {
      "cell_type": "code",
      "metadata": {
        "id": "hhw0BB4ADJWH",
        "colab": {
          "base_uri": "https://localhost:8080/",
          "height": 34
        },
        "outputId": "0c22fe44-9297-40f9-8f33-d03253ee7178"
      },
      "source": [
        "print(count/2000)"
      ],
      "execution_count": null,
      "outputs": [
        {
          "output_type": "stream",
          "text": [
            "0.8985\n"
          ],
          "name": "stdout"
        }
      ]
    },
    {
      "cell_type": "code",
      "metadata": {
        "id": "sIC7r9T-D11x"
      },
      "source": [
        ""
      ],
      "execution_count": null,
      "outputs": []
    }
  ]
}