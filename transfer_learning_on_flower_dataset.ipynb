{
  "nbformat": 4,
  "nbformat_minor": 0,
  "metadata": {
    "colab": {
      "name": "transfer learning on flower dataset",
      "provenance": [],
      "collapsed_sections": []
    },
    "kernelspec": {
      "name": "python3",
      "display_name": "Python 3"
    },
    "accelerator": "GPU"
  },
  "cells": [
    {
      "cell_type": "code",
      "metadata": {
        "id": "bZNvAZpfdE-s"
      },
      "source": [
        "import os \n",
        "import numpy as np\n",
        "import pickle \n",
        "from tensorflow import keras \n",
        "import cv2\n",
        "import random\n",
        "from keras.preprocessing.image import ImageDataGenerator"
      ],
      "execution_count": null,
      "outputs": []
    },
    {
      "cell_type": "code",
      "metadata": {
        "id": "ZcKRtgf3gy6h",
        "colab": {
          "base_uri": "https://localhost:8080/",
          "height": 54
        },
        "outputId": "1b43690d-1f28-4e23-d1f5-abd0a881226a"
      },
      "source": [
        "from google.colab import drive\n",
        "drive.mount('/content/gdrive')\n"
      ],
      "execution_count": null,
      "outputs": [
        {
          "output_type": "stream",
          "text": [
            "Drive already mounted at /content/gdrive; to attempt to forcibly remount, call drive.mount(\"/content/gdrive\", force_remount=True).\n"
          ],
          "name": "stdout"
        }
      ]
    },
    {
      "cell_type": "code",
      "metadata": {
        "id": "-DzuHrlH5f3N"
      },
      "source": [
        ""
      ],
      "execution_count": null,
      "outputs": []
    },
    {
      "cell_type": "code",
      "metadata": {
        "id": "ovNRAf70kDGL"
      },
      "source": [
        "data = []\n",
        "img_size = 224\n",
        "categories = [\"daisy\", \"dandelion\", \"rose\", \"sunflower\", \"tulip\"]\n",
        "def create_data():\n",
        "  for category in categories:\n",
        "    path = os.path.join('/content/gdrive/My Drive/kaggle/Flowers classifier/flowers', category)\n",
        "    class_num = categories.index(category)\n",
        "    for img in os.listdir(path):\n",
        "      img_arr = cv2.imread(os.path.join(path, img))\n",
        "      try:\n",
        "        new_arr = cv2.resize(img_arr, (img_size, img_size))\n",
        "      except cv2.error as e:\n",
        "        print('Not valid')\n",
        "      cv2.waitKey()\n",
        "        \n",
        "\n",
        "      data.append([new_arr, class_num])\n",
        "  \n"
      ],
      "execution_count": null,
      "outputs": []
    },
    {
      "cell_type": "code",
      "metadata": {
        "id": "rTieF2YDg19j",
        "colab": {
          "base_uri": "https://localhost:8080/",
          "height": 68
        },
        "outputId": "030c21d6-6c30-4e8f-c0d2-391e3feabfdf"
      },
      "source": [
        "create_data()\n",
        "random.shuffle(data)\n",
        "X=[]\n",
        "y=[]\n",
        "\n",
        "for features, labels in data:\n",
        "  X.append(features)\n",
        "  y.append(labels)\n",
        "\n",
        "X = np.array(X).reshape(-1, img_size, img_size, 3)\n",
        "y = np.array(y)"
      ],
      "execution_count": null,
      "outputs": [
        {
          "output_type": "stream",
          "text": [
            "Not valid\n",
            "Not valid\n",
            "Not valid\n"
          ],
          "name": "stdout"
        }
      ]
    },
    {
      "cell_type": "code",
      "metadata": {
        "id": "Pqaytym9kJFf"
      },
      "source": [
        "pickle_out = open('X_224.pickle', 'wb')\n",
        "\n",
        "pickle.dump(X, pickle_out)\n",
        "pickle_out.close()\n",
        "pickle_out_2 = open('y_224.pickle', 'wb')\n",
        "\n",
        "pickle.dump(y, pickle_out_2)\n",
        "pickle_out.close()"
      ],
      "execution_count": null,
      "outputs": []
    },
    {
      "cell_type": "code",
      "metadata": {
        "id": "Mof3a6rEzajh"
      },
      "source": [
        "os.chdir('/content/gdrive/My Drive/kaggle/Flowers classifier')\n",
        "pickle_in1 = open('X_224.pickle', 'rb')\n",
        "\n",
        "X = pickle.load(pickle_in1)\n",
        "\n",
        "pickle_in2 = open('y_224.pickle', 'rb')\n",
        "\n",
        "y = pickle.load(pickle_in2)"
      ],
      "execution_count": null,
      "outputs": []
    },
    {
      "cell_type": "code",
      "metadata": {
        "id": "gC2EAVmvsUgI"
      },
      "source": [
        "\n"
      ],
      "execution_count": null,
      "outputs": []
    },
    {
      "cell_type": "code",
      "metadata": {
        "id": "ZAgGSU1Zja7N",
        "colab": {
          "base_uri": "https://localhost:8080/",
          "height": 34
        },
        "outputId": "003f3d53-e2a6-4a1a-ae06-3e01ddbf6f6d"
      },
      "source": [
        "from sklearn.preprocessing import LabelEncoder\n",
        "from keras.utils import to_categorical\n",
        "le = LabelEncoder()\n",
        "y= le.fit_transform(y)\n",
        "y = to_categorical(y,5)\n",
        "y.shape\n"
      ],
      "execution_count": null,
      "outputs": [
        {
          "output_type": "execute_result",
          "data": {
            "text/plain": [
              "(4326, 5)"
            ]
          },
          "metadata": {
            "tags": []
          },
          "execution_count": 4
        }
      ]
    },
    {
      "cell_type": "code",
      "metadata": {
        "id": "pYtOZtO5hEGp"
      },
      "source": [
        ""
      ],
      "execution_count": null,
      "outputs": []
    },
    {
      "cell_type": "code",
      "metadata": {
        "id": "qrILSs-BiPoT"
      },
      "source": [
        ""
      ],
      "execution_count": null,
      "outputs": []
    },
    {
      "cell_type": "code",
      "metadata": {
        "id": "U6MGLhTujIHO"
      },
      "source": [
        ""
      ],
      "execution_count": null,
      "outputs": []
    },
    {
      "cell_type": "code",
      "metadata": {
        "id": "F2-HsSGexQMu"
      },
      "source": [
        "from sklearn.model_selection import train_test_split\n",
        "\n",
        "X_train, X_valid, y_train, y_valid = train_test_split(X, y, train_size = 0.8, random_state= 7)\n"
      ],
      "execution_count": null,
      "outputs": []
    },
    {
      "cell_type": "code",
      "metadata": {
        "id": "4aDwsARsjRle",
        "colab": {
          "base_uri": "https://localhost:8080/",
          "height": 34
        },
        "outputId": "f6cb2d8d-b3fb-4bae-e51c-beb838d8c519"
      },
      "source": [
        "datagen = ImageDataGenerator(\n",
        "        featurewise_center=False,  # set input mean to 0 over the dataset\n",
        "        samplewise_center=False,  # set each sample mean to 0\n",
        "        featurewise_std_normalization=False,  # divide inputs by std of the dataset\n",
        "        samplewise_std_normalization=False,  # divide each input by its std\n",
        "        zca_whitening=False,  # apply ZCA whitening\n",
        "        rotation_range=10,  # randomly rotate images in the range (degrees, 0 to 180)\n",
        "        zoom_range = 0.1, # Randomly zoom image \n",
        "        width_shift_range=0.2,  # randomly shift images horizontally (fraction of total width)\n",
        "        height_shift_range=0.2,  # randomly shift images vertically (fraction of total height)\n",
        "        horizontal_flip=True,  # randomly flip images\n",
        "        vertical_flip=False) \n",
        "datagen.fit(X_train)\n",
        "X_train.shape"
      ],
      "execution_count": null,
      "outputs": [
        {
          "output_type": "execute_result",
          "data": {
            "text/plain": [
              "(3460, 224, 224, 3)"
            ]
          },
          "metadata": {
            "tags": []
          },
          "execution_count": 9
        }
      ]
    },
    {
      "cell_type": "code",
      "metadata": {
        "id": "-cUy00nDxGuz"
      },
      "source": [
        "model.compile(optimizer = keras.optimizers.Adam(learning_rate=0.001), loss = 'categorical_crossentropy', metrics=['accuracy'])\n",
        "\n"
      ],
      "execution_count": null,
      "outputs": []
    },
    {
      "cell_type": "code",
      "metadata": {
        "id": "JCUbBec480Yx",
        "colab": {
          "base_uri": "https://localhost:8080/",
          "height": 71
        },
        "outputId": "674c803c-beee-4bf5-9321-8431ac33573f"
      },
      "source": [
        "from keras.applications.vgg16 import VGG16\n",
        "\n",
        "vgg = VGG16(input_shape=X_train.shape[1:], weights = 'imagenet', include_top = False)"
      ],
      "execution_count": null,
      "outputs": [
        {
          "output_type": "stream",
          "text": [
            "Downloading data from https://storage.googleapis.com/tensorflow/keras-applications/vgg16/vgg16_weights_tf_dim_ordering_tf_kernels_notop.h5\n",
            "58892288/58889256 [==============================] - 2s 0us/step\n"
          ],
          "name": "stdout"
        }
      ]
    },
    {
      "cell_type": "code",
      "metadata": {
        "id": "E6JBSWp51vMH"
      },
      "source": [
        "for layer in vgg.layers:\n",
        "  layer.trainable = False"
      ],
      "execution_count": null,
      "outputs": []
    },
    {
      "cell_type": "code",
      "metadata": {
        "id": "XTbjYv7fAnPE"
      },
      "source": [
        "x = keras.layers.Flatten()(vgg.output)\n",
        "\n",
        "predictions = keras.layers.Dense(5, activation='softmax')(x)\n",
        "\n",
        "model = keras.Model(inputs = vgg.input, outputs = predictions)"
      ],
      "execution_count": null,
      "outputs": []
    },
    {
      "cell_type": "code",
      "metadata": {
        "id": "5vd99hquA-cR",
        "colab": {
          "base_uri": "https://localhost:8080/",
          "height": 867
        },
        "outputId": "0c18bf00-bea0-4827-d8e7-fcd3d1af0755"
      },
      "source": [
        "model.summary()"
      ],
      "execution_count": null,
      "outputs": [
        {
          "output_type": "stream",
          "text": [
            "Model: \"functional_1\"\n",
            "_________________________________________________________________\n",
            "Layer (type)                 Output Shape              Param #   \n",
            "=================================================================\n",
            "input_1 (InputLayer)         [(None, 224, 224, 3)]     0         \n",
            "_________________________________________________________________\n",
            "block1_conv1 (Conv2D)        (None, 224, 224, 64)      1792      \n",
            "_________________________________________________________________\n",
            "block1_conv2 (Conv2D)        (None, 224, 224, 64)      36928     \n",
            "_________________________________________________________________\n",
            "block1_pool (MaxPooling2D)   (None, 112, 112, 64)      0         \n",
            "_________________________________________________________________\n",
            "block2_conv1 (Conv2D)        (None, 112, 112, 128)     73856     \n",
            "_________________________________________________________________\n",
            "block2_conv2 (Conv2D)        (None, 112, 112, 128)     147584    \n",
            "_________________________________________________________________\n",
            "block2_pool (MaxPooling2D)   (None, 56, 56, 128)       0         \n",
            "_________________________________________________________________\n",
            "block3_conv1 (Conv2D)        (None, 56, 56, 256)       295168    \n",
            "_________________________________________________________________\n",
            "block3_conv2 (Conv2D)        (None, 56, 56, 256)       590080    \n",
            "_________________________________________________________________\n",
            "block3_conv3 (Conv2D)        (None, 56, 56, 256)       590080    \n",
            "_________________________________________________________________\n",
            "block3_pool (MaxPooling2D)   (None, 28, 28, 256)       0         \n",
            "_________________________________________________________________\n",
            "block4_conv1 (Conv2D)        (None, 28, 28, 512)       1180160   \n",
            "_________________________________________________________________\n",
            "block4_conv2 (Conv2D)        (None, 28, 28, 512)       2359808   \n",
            "_________________________________________________________________\n",
            "block4_conv3 (Conv2D)        (None, 28, 28, 512)       2359808   \n",
            "_________________________________________________________________\n",
            "block4_pool (MaxPooling2D)   (None, 14, 14, 512)       0         \n",
            "_________________________________________________________________\n",
            "block5_conv1 (Conv2D)        (None, 14, 14, 512)       2359808   \n",
            "_________________________________________________________________\n",
            "block5_conv2 (Conv2D)        (None, 14, 14, 512)       2359808   \n",
            "_________________________________________________________________\n",
            "block5_conv3 (Conv2D)        (None, 14, 14, 512)       2359808   \n",
            "_________________________________________________________________\n",
            "block5_pool (MaxPooling2D)   (None, 7, 7, 512)         0         \n",
            "_________________________________________________________________\n",
            "flatten_5 (Flatten)          (None, 25088)             0         \n",
            "_________________________________________________________________\n",
            "dense_5 (Dense)              (None, 5)                 125445    \n",
            "=================================================================\n",
            "Total params: 14,840,133\n",
            "Trainable params: 125,445\n",
            "Non-trainable params: 14,714,688\n",
            "_________________________________________________________________\n"
          ],
          "name": "stdout"
        }
      ]
    },
    {
      "cell_type": "code",
      "metadata": {
        "id": "9dBb8s5JBhc0",
        "colab": {
          "base_uri": "https://localhost:8080/",
          "height": 1000
        },
        "outputId": "c3c23ae1-584d-465e-9fdd-6b16ebc172c9"
      },
      "source": [
        "history = model.fit_generator(datagen.flow(X_train, y_train, batch_size=128), epochs=50, validation_data=(X_valid, y_valid))"
      ],
      "execution_count": null,
      "outputs": [
        {
          "output_type": "stream",
          "text": [
            "Epoch 1/50\n",
            "28/28 [==============================] - 44s 2s/step - loss: 7.7457 - accuracy: 0.6448 - val_loss: 4.7359 - val_accuracy: 0.7921\n",
            "Epoch 2/50\n",
            "28/28 [==============================] - 39s 1s/step - loss: 4.1168 - accuracy: 0.8003 - val_loss: 4.1757 - val_accuracy: 0.8129\n",
            "Epoch 3/50\n",
            "28/28 [==============================] - 38s 1s/step - loss: 3.3402 - accuracy: 0.8217 - val_loss: 4.0483 - val_accuracy: 0.8430\n",
            "Epoch 4/50\n",
            "28/28 [==============================] - 38s 1s/step - loss: 3.3254 - accuracy: 0.8327 - val_loss: 4.6174 - val_accuracy: 0.8256\n",
            "Epoch 5/50\n",
            "28/28 [==============================] - 38s 1s/step - loss: 3.0452 - accuracy: 0.8526 - val_loss: 4.5746 - val_accuracy: 0.8233\n",
            "Epoch 6/50\n",
            "28/28 [==============================] - 38s 1s/step - loss: 2.9250 - accuracy: 0.8604 - val_loss: 4.3536 - val_accuracy: 0.8499\n",
            "Epoch 7/50\n",
            "28/28 [==============================] - 40s 1s/step - loss: 2.6428 - accuracy: 0.8647 - val_loss: 4.1392 - val_accuracy: 0.8557\n",
            "Epoch 8/50\n",
            "28/28 [==============================] - 38s 1s/step - loss: 2.3442 - accuracy: 0.8786 - val_loss: 4.5405 - val_accuracy: 0.8510\n",
            "Epoch 9/50\n",
            "28/28 [==============================] - 38s 1s/step - loss: 2.8675 - accuracy: 0.8720 - val_loss: 5.5968 - val_accuracy: 0.8372\n",
            "Epoch 10/50\n",
            "28/28 [==============================] - 38s 1s/step - loss: 2.4230 - accuracy: 0.8772 - val_loss: 4.7988 - val_accuracy: 0.8568\n",
            "Epoch 11/50\n",
            "28/28 [==============================] - 38s 1s/step - loss: 2.6820 - accuracy: 0.8780 - val_loss: 4.6204 - val_accuracy: 0.8614\n",
            "Epoch 12/50\n",
            "28/28 [==============================] - 38s 1s/step - loss: 2.4620 - accuracy: 0.8919 - val_loss: 5.9479 - val_accuracy: 0.8314\n",
            "Epoch 13/50\n",
            "28/28 [==============================] - 38s 1s/step - loss: 3.7570 - accuracy: 0.8636 - val_loss: 7.5760 - val_accuracy: 0.8164\n",
            "Epoch 14/50\n",
            "28/28 [==============================] - 38s 1s/step - loss: 3.1344 - accuracy: 0.8983 - val_loss: 6.0925 - val_accuracy: 0.8453\n",
            "Epoch 15/50\n",
            "28/28 [==============================] - 38s 1s/step - loss: 1.9650 - accuracy: 0.9101 - val_loss: 5.7168 - val_accuracy: 0.8649\n",
            "Epoch 16/50\n",
            "28/28 [==============================] - 38s 1s/step - loss: 1.8901 - accuracy: 0.9142 - val_loss: 5.9656 - val_accuracy: 0.8533\n",
            "Epoch 17/50\n",
            "28/28 [==============================] - 38s 1s/step - loss: 2.0723 - accuracy: 0.9127 - val_loss: 6.1508 - val_accuracy: 0.8464\n",
            "Epoch 18/50\n",
            "28/28 [==============================] - 38s 1s/step - loss: 1.8794 - accuracy: 0.9185 - val_loss: 6.8717 - val_accuracy: 0.8326\n",
            "Epoch 19/50\n",
            "28/28 [==============================] - 38s 1s/step - loss: 2.2288 - accuracy: 0.9084 - val_loss: 6.1553 - val_accuracy: 0.8522\n",
            "Epoch 20/50\n",
            "28/28 [==============================] - 38s 1s/step - loss: 2.0489 - accuracy: 0.9159 - val_loss: 6.2923 - val_accuracy: 0.8568\n",
            "Epoch 21/50\n",
            "28/28 [==============================] - 38s 1s/step - loss: 1.8518 - accuracy: 0.9246 - val_loss: 6.3320 - val_accuracy: 0.8603\n",
            "Epoch 22/50\n",
            "28/28 [==============================] - 38s 1s/step - loss: 2.1500 - accuracy: 0.9165 - val_loss: 8.0270 - val_accuracy: 0.8453\n",
            "Epoch 23/50\n",
            "28/28 [==============================] - 38s 1s/step - loss: 2.0719 - accuracy: 0.9199 - val_loss: 6.9723 - val_accuracy: 0.8499\n",
            "Epoch 24/50\n",
            "28/28 [==============================] - 38s 1s/step - loss: 1.8236 - accuracy: 0.9225 - val_loss: 6.9119 - val_accuracy: 0.8591\n",
            "Epoch 25/50\n",
            "28/28 [==============================] - 39s 1s/step - loss: 1.8618 - accuracy: 0.9257 - val_loss: 7.0219 - val_accuracy: 0.8649\n",
            "Epoch 26/50\n",
            "28/28 [==============================] - 38s 1s/step - loss: 1.6754 - accuracy: 0.9251 - val_loss: 7.1834 - val_accuracy: 0.8626\n",
            "Epoch 27/50\n",
            "28/28 [==============================] - 38s 1s/step - loss: 1.6153 - accuracy: 0.9292 - val_loss: 7.3660 - val_accuracy: 0.8580\n",
            "Epoch 28/50\n",
            "28/28 [==============================] - 38s 1s/step - loss: 1.6081 - accuracy: 0.9338 - val_loss: 6.9053 - val_accuracy: 0.8707\n",
            "Epoch 29/50\n",
            "28/28 [==============================] - 38s 1s/step - loss: 1.8395 - accuracy: 0.9272 - val_loss: 7.7117 - val_accuracy: 0.8591\n",
            "Epoch 30/50\n",
            "28/28 [==============================] - 38s 1s/step - loss: 2.1237 - accuracy: 0.9153 - val_loss: 7.6753 - val_accuracy: 0.8533\n",
            "Epoch 31/50\n",
            "28/28 [==============================] - 40s 1s/step - loss: 1.3816 - accuracy: 0.9408 - val_loss: 7.3768 - val_accuracy: 0.8626\n",
            "Epoch 32/50\n",
            "28/28 [==============================] - 38s 1s/step - loss: 2.3115 - accuracy: 0.9202 - val_loss: 7.9922 - val_accuracy: 0.8522\n",
            "Epoch 33/50\n",
            "28/28 [==============================] - 39s 1s/step - loss: 2.4404 - accuracy: 0.9197 - val_loss: 8.8639 - val_accuracy: 0.8533\n",
            "Epoch 34/50\n",
            "28/28 [==============================] - 38s 1s/step - loss: 1.9967 - accuracy: 0.9251 - val_loss: 8.5117 - val_accuracy: 0.8626\n",
            "Epoch 35/50\n",
            "28/28 [==============================] - 38s 1s/step - loss: 1.9586 - accuracy: 0.9286 - val_loss: 8.1762 - val_accuracy: 0.8730\n",
            "Epoch 36/50\n",
            "28/28 [==============================] - 38s 1s/step - loss: 1.8041 - accuracy: 0.9332 - val_loss: 7.7018 - val_accuracy: 0.8730\n",
            "Epoch 37/50\n",
            "28/28 [==============================] - 38s 1s/step - loss: 1.6521 - accuracy: 0.9347 - val_loss: 7.6708 - val_accuracy: 0.8637\n",
            "Epoch 38/50\n",
            "28/28 [==============================] - 38s 1s/step - loss: 1.5738 - accuracy: 0.9329 - val_loss: 7.4980 - val_accuracy: 0.8649\n",
            "Epoch 39/50\n",
            "28/28 [==============================] - 38s 1s/step - loss: 2.7697 - accuracy: 0.9176 - val_loss: 9.1595 - val_accuracy: 0.8499\n",
            "Epoch 40/50\n",
            "28/28 [==============================] - 38s 1s/step - loss: 2.2463 - accuracy: 0.9292 - val_loss: 8.2061 - val_accuracy: 0.8626\n",
            "Epoch 41/50\n",
            "28/28 [==============================] - 39s 1s/step - loss: 1.9984 - accuracy: 0.9355 - val_loss: 8.1782 - val_accuracy: 0.8672\n",
            "Epoch 42/50\n",
            "28/28 [==============================] - 38s 1s/step - loss: 1.6359 - accuracy: 0.9393 - val_loss: 8.7973 - val_accuracy: 0.8568\n",
            "Epoch 43/50\n",
            "28/28 [==============================] - 38s 1s/step - loss: 2.3352 - accuracy: 0.9197 - val_loss: 8.8162 - val_accuracy: 0.8603\n",
            "Epoch 44/50\n",
            "28/28 [==============================] - 38s 1s/step - loss: 1.7395 - accuracy: 0.9373 - val_loss: 8.5802 - val_accuracy: 0.8603\n",
            "Epoch 45/50\n",
            "28/28 [==============================] - 38s 1s/step - loss: 1.8530 - accuracy: 0.9370 - val_loss: 8.7722 - val_accuracy: 0.8591\n",
            "Epoch 46/50\n",
            "28/28 [==============================] - 38s 1s/step - loss: 1.4410 - accuracy: 0.9462 - val_loss: 8.6699 - val_accuracy: 0.8603\n",
            "Epoch 47/50\n",
            "28/28 [==============================] - 38s 1s/step - loss: 1.6708 - accuracy: 0.9422 - val_loss: 9.1371 - val_accuracy: 0.8649\n",
            "Epoch 48/50\n",
            "28/28 [==============================] - 38s 1s/step - loss: 1.6407 - accuracy: 0.9410 - val_loss: 8.9165 - val_accuracy: 0.8580\n",
            "Epoch 49/50\n",
            "28/28 [==============================] - 39s 1s/step - loss: 1.3962 - accuracy: 0.9468 - val_loss: 9.2325 - val_accuracy: 0.8591\n",
            "Epoch 50/50\n",
            "28/28 [==============================] - 39s 1s/step - loss: 1.7154 - accuracy: 0.9402 - val_loss: 9.0869 - val_accuracy: 0.8718\n"
          ],
          "name": "stdout"
        }
      ]
    }
  ]
}